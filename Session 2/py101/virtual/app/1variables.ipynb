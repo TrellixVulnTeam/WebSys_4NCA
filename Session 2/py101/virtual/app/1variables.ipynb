{
 "cells": [
  {
   "cell_type": "code",
   "execution_count": 2,
   "source": [
    "# Section 1\r\n",
    "# Python Variables\r\n",
    "#   -> In many programming languages, variables are statically typed, while in python its not.\r\n",
    "#   -> Example in C programming language\r\n",
    "#       -> int x=0;  -> in python  -> x=0\r\n",
    "#   -> type(variable)\r\n",
    "# Rules on variabls\r\n",
    "#   -> Names can not start with a number\r\n",
    "#   -> There can be no spaces in the name, use _ instead.\r\n",
    "\r\n",
    "x='0'\r\n",
    "print(type(x))\r\n"
   ],
   "outputs": [
    {
     "output_type": "stream",
     "name": "stdout",
     "text": [
      "<class 'str'>\n"
     ]
    }
   ],
   "metadata": {}
  },
  {
   "cell_type": "code",
   "execution_count": 3,
   "source": [
    "# Section 2\r\n",
    "# Tuple Assignment (Unpacking)\r\n",
    "# Unpacking or tuple assignment is the process that assigns the values on the right-hand side to the left-hand side variables. \r\n",
    "# In unpacking, we basically extract the values of the tuple into a single variable.\r\n",
    "\r\n",
    "a,b,c = 1,2,3\r\n",
    "print(a,b,c)\r\n",
    "\r\n",
    "a,b,c = 1,2,\"3\"\r\n",
    "print(type(a),type(b),type(c))\r\n",
    "\r\n",
    "a = 1,2,3\r\n",
    "\r\n",
    "print(type(a))\r\n",
    "# Tuple can be accessed thru index \r\n",
    "print(a[0],a[1],a[2])"
   ],
   "outputs": [
    {
     "output_type": "stream",
     "name": "stdout",
     "text": [
      "1 2 3\n",
      "<class 'int'> <class 'int'> <class 'str'>\n",
      "<class 'tuple'>\n",
      "1 2 3\n"
     ]
    }
   ],
   "metadata": {}
  },
  {
   "cell_type": "code",
   "execution_count": 11,
   "source": [
    "# Section 3\r\n",
    "# when an asterisk precedes a variable name used as an l-value, it means assign this\r\n",
    "# variable the remaining r-values as a list\r\n",
    "\r\n",
    "a,*many = (1,2,3,4,5,6,7,8,9,10,11,12,13,14,15,16,17,18,20)     # it also called -> variadic arguments\r\n",
    "\r\n",
    "print(a,many)\r\n",
    "\r\n",
    "print(type(many))\r\n",
    "print(many[len(many)-1])\r\n"
   ],
   "outputs": [
    {
     "output_type": "stream",
     "name": "stdout",
     "text": [
      "1 [2, 3, 4, 5, 6, 7, 8, 9, 10, 11, 12, 13, 14, 15, 16, 17, 18, 20]\n",
      "<class 'list'>\n",
      "20\n"
     ]
    }
   ],
   "metadata": {}
  },
  {
   "cell_type": "code",
   "execution_count": 14,
   "source": [
    "# Section 4\r\n",
    "#Python Strings\r\n",
    "\r\n",
    "first_name = 'John Lennon'\r\n",
    "\r\n",
    "print(first_name)\r\n",
    "\r\n",
    "print(type(first_name))\r\n"
   ],
   "outputs": [
    {
     "output_type": "stream",
     "name": "stdout",
     "text": [
      "John Lennon\n",
      "<class 'str'>\n"
     ]
    }
   ],
   "metadata": {}
  }
 ],
 "metadata": {
  "orig_nbformat": 4,
  "language_info": {
   "name": "python",
   "version": "3.9.6",
   "mimetype": "text/x-python",
   "codemirror_mode": {
    "name": "ipython",
    "version": 3
   },
   "pygments_lexer": "ipython3",
   "nbconvert_exporter": "python",
   "file_extension": ".py"
  },
  "kernelspec": {
   "name": "python3",
   "display_name": "Python 3.9.6 64-bit ('virtual': venv)"
  },
  "interpreter": {
   "hash": "e7c8e3d6ef6d43eb983e970b32c6473d0b77e8c0b5bebf022f95e11db60eaf5b"
  }
 },
 "nbformat": 4,
 "nbformat_minor": 2
}