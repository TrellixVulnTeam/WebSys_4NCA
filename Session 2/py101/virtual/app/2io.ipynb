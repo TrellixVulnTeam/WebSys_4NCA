{
 "cells": [
  {
   "cell_type": "code",
   "execution_count": 2,
   "source": [
    "# Section 5\r\n",
    "#input - input() function\r\n",
    "#output - print() function\r\n",
    "\r\n",
    "_name = input('Enter your full name')\r\n",
    "\r\n",
    "print(type(_name))"
   ],
   "outputs": [
    {
     "output_type": "stream",
     "name": "stdout",
     "text": [
      "<class 'str'>\n"
     ]
    }
   ],
   "metadata": {}
  },
  {
   "cell_type": "code",
   "execution_count": 4,
   "source": [
    "# Section 6\r\n",
    "\r\n",
    "x = int(input(\"Enter a number\"))  #convert input to integer value\r\n",
    "\r\n",
    "print(type(x))"
   ],
   "outputs": [
    {
     "output_type": "stream",
     "name": "stdout",
     "text": [
      "<class 'int'>\n"
     ]
    }
   ],
   "metadata": {}
  },
  {
   "cell_type": "code",
   "execution_count": 5,
   "source": [
    "# Section 7\r\n",
    "\r\n",
    "a = tuple(input()) #convert input to tuple\r\n",
    "print(a)   #can access thru index var[0] .."
   ],
   "outputs": [
    {
     "output_type": "stream",
     "name": "stdout",
     "text": [
      "('1', ' ', '2', ' ', '3', ' ', '4', ' ', '5')\n"
     ]
    }
   ],
   "metadata": {}
  },
  {
   "cell_type": "code",
   "execution_count": 6,
   "source": [
    "# Section 8\r\n",
    "_num1 = int(input('Enter first value'))\r\n",
    "_num2 = int(input('Enter second value'))\r\n",
    "\r\n",
    "_total = _num1 + _num2\r\n",
    "\r\n",
    "print(_total)\r\n",
    "\r\n",
    "\r\n",
    "_num1 = input('Enter first value') #its string by default\r\n",
    "_num2 = input('Enter second value') \r\n",
    "\r\n",
    "_total = _num1 + _num2\r\n",
    "\r\n",
    "print(_total)\r\n"
   ],
   "outputs": [
    {
     "output_type": "stream",
     "name": "stdout",
     "text": [
      "30\n",
      "1020\n"
     ]
    }
   ],
   "metadata": {}
  },
  {
   "cell_type": "code",
   "execution_count": 7,
   "source": [
    "# Section 9\r\n",
    "# It's a list append values\r\n",
    "\r\n",
    "a,*many = (1,2,3,4,5,6,7,8,9)\r\n",
    "\r\n",
    "print(a,many)\r\n",
    "\r\n",
    "many.append(12)\r\n",
    "\r\n",
    "print(a,many)"
   ],
   "outputs": [
    {
     "output_type": "stream",
     "name": "stdout",
     "text": [
      "1 [2, 3, 4, 5, 6, 7, 8, 9]\n",
      "1 [2, 3, 4, 5, 6, 7, 8, 9, 12]\n"
     ]
    }
   ],
   "metadata": {}
  }
 ],
 "metadata": {
  "orig_nbformat": 4,
  "language_info": {
   "name": "python",
   "version": "3.9.6",
   "mimetype": "text/x-python",
   "codemirror_mode": {
    "name": "ipython",
    "version": 3
   },
   "pygments_lexer": "ipython3",
   "nbconvert_exporter": "python",
   "file_extension": ".py"
  },
  "kernelspec": {
   "name": "python3",
   "display_name": "Python 3.9.6 64-bit ('virtual': venv)"
  },
  "interpreter": {
   "hash": "e7c8e3d6ef6d43eb983e970b32c6473d0b77e8c0b5bebf022f95e11db60eaf5b"
  }
 },
 "nbformat": 4,
 "nbformat_minor": 2
}